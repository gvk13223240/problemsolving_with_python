{
 "cells": [
  {
   "cell_type": "code",
   "execution_count": 1,
   "id": "270bd055-e678-487c-bea3-15bdf741adb8",
   "metadata": {},
   "outputs": [
    {
     "name": "stdin",
     "output_type": "stream",
     "text": [
      " 7\n"
     ]
    },
    {
     "name": "stdout",
     "output_type": "stream",
     "text": [
      "* * * * * * * \n",
      "* * * * * * * \n",
      "* * * * * * * \n",
      "* * * * * * * \n",
      "* * * * * * * \n",
      "* * * * * * * \n",
      "* * * * * * * \n"
     ]
    }
   ],
   "source": [
    "#sq pattern\n",
    "n = int(input())\n",
    "for i in range(n):\n",
    "    for j in range(n):\n",
    "        print('*',end=' ')\n",
    "    print()"
   ]
  },
  {
   "cell_type": "code",
   "execution_count": 3,
   "id": "8ba0f79d-e669-4a17-b1a5-da7a0d2108e8",
   "metadata": {},
   "outputs": [
    {
     "name": "stdin",
     "output_type": "stream",
     "text": [
      " 7\n"
     ]
    },
    {
     "name": "stdout",
     "output_type": "stream",
     "text": [
      "* \n",
      "* * \n",
      "* * * \n",
      "* * * * \n",
      "* * * * * \n",
      "* * * * * * \n",
      "* * * * * * * \n"
     ]
    }
   ],
   "source": [
    "#left aligned triangle\n",
    "n = int(input())\n",
    "for i in range(n):\n",
    "    for j in range(i+1):\n",
    "        print('*',end = ' ')\n",
    "    print()"
   ]
  },
  {
   "cell_type": "code",
   "execution_count": 6,
   "id": "8a7490fd-bc8d-4648-80d1-f2d56a906a94",
   "metadata": {},
   "outputs": [
    {
     "name": "stdin",
     "output_type": "stream",
     "text": [
      " 7\n"
     ]
    },
    {
     "name": "stdout",
     "output_type": "stream",
     "text": [
      "1 \n",
      "1 2 \n",
      "1 2 3 \n",
      "1 2 3 4 \n",
      "1 2 3 4 5 \n",
      "1 2 3 4 5 6 \n",
      "1 2 3 4 5 6 7 \n"
     ]
    }
   ],
   "source": [
    "n = int(input())\n",
    "for i in range(n):\n",
    "    for j in range(i+1):\n",
    "        print(j+1,end = ' ')\n",
    "    print()"
   ]
  },
  {
   "cell_type": "code",
   "execution_count": 8,
   "id": "cf4ca70c-b89f-437d-9643-d6c8a6037f19",
   "metadata": {},
   "outputs": [
    {
     "name": "stdin",
     "output_type": "stream",
     "text": [
      " 7\n"
     ]
    },
    {
     "name": "stdout",
     "output_type": "stream",
     "text": [
      "0\n",
      "11\n",
      "222\n",
      "3333\n",
      "44444\n",
      "555555\n",
      "6666666\n"
     ]
    }
   ],
   "source": [
    "n = int(input())\n",
    "for i in range(n):\n",
    "    for j in range(i+1):\n",
    "        print(i,end = '')\n",
    "    print()"
   ]
  },
  {
   "cell_type": "code",
   "execution_count": 11,
   "id": "2d926e7e-6e58-4542-832f-85f22ad4def9",
   "metadata": {},
   "outputs": [
    {
     "name": "stdin",
     "output_type": "stream",
     "text": [
      " 7\n"
     ]
    },
    {
     "name": "stdout",
     "output_type": "stream",
     "text": [
      "* * * * * * * \n",
      "* * * * * * \n",
      "* * * * * \n",
      "* * * * \n",
      "* * * \n",
      "* * \n",
      "* \n"
     ]
    }
   ],
   "source": [
    "n = int(input())\n",
    "for i in range(n):\n",
    "    for j in range(n-i):\n",
    "        print('*',end=' ')\n",
    "    print()"
   ]
  },
  {
   "cell_type": "code",
   "execution_count": 14,
   "id": "c690d945-585d-4ebb-9ff3-f3a5fe47159e",
   "metadata": {},
   "outputs": [
    {
     "name": "stdin",
     "output_type": "stream",
     "text": [
      " 7\n"
     ]
    },
    {
     "name": "stdout",
     "output_type": "stream",
     "text": [
      "1 2 3 4 5 6 7 \n",
      "1 2 3 4 5 6 \n",
      "1 2 3 4 5 \n",
      "1 2 3 4 \n",
      "1 2 3 \n",
      "1 2 \n",
      "1 \n"
     ]
    }
   ],
   "source": [
    "n = int(input())\n",
    "for i in range(n):\n",
    "    for j in range(n-i):\n",
    "        print(j+1,end=' ')\n",
    "    print()"
   ]
  },
  {
   "cell_type": "code",
   "execution_count": 15,
   "id": "5225c20d-9989-455a-a251-f966d9c15981",
   "metadata": {},
   "outputs": [
    {
     "name": "stdin",
     "output_type": "stream",
     "text": [
      " 7\n"
     ]
    },
    {
     "name": "stdout",
     "output_type": "stream",
     "text": [
      "            *             \n",
      "          * * *           \n",
      "        * * * * *         \n",
      "      * * * * * * *       \n",
      "    * * * * * * * * *     \n",
      "  * * * * * * * * * * *   \n",
      "* * * * * * * * * * * * * \n"
     ]
    }
   ],
   "source": [
    "n = int(input())\n",
    "for i in range(n):\n",
    "    for j in range(n-i-1):\n",
    "        print(' ',end = ' ')\n",
    "    for k in range(2*i+1):\n",
    "        print('*',end=' ')\n",
    "    for j in range(n-i-1):\n",
    "        print(' ',end = ' ')\n"
   ]
  },
  {
   "cell_type": "code",
   "execution_count": 16,
   "id": "8eaae83d-2c89-4e17-b54e-7866a53f941f",
   "metadata": {},
   "outputs": [
    {
     "name": "stdin",
     "output_type": "stream",
     "text": [
      " 7\n"
     ]
    },
    {
     "name": "stdout",
     "output_type": "stream",
     "text": [
      "* * * * * * * * * * * * * \n",
      "  * * * * * * * * * * *   \n",
      "    * * * * * * * * *     \n",
      "      * * * * * * *       \n",
      "        * * * * *         \n",
      "          * * *           \n",
      "            *             \n"
     ]
    }
   ],
   "source": [
    "n = int(input())\n",
    "for i in range(n-1,-1,-1):\n",
    "    for j in range(n-i-1):\n",
    "        print(' ',end=' ')\n",
    "    for j in range(2*i+1):\n",
    "        print('*',end=' ')\n",
    "    for j in range(n-i-1):\n",
    "        print(' ',end=' ')\n",
    "    print()"
   ]
  },
  {
   "cell_type": "code",
   "execution_count": 17,
   "id": "a659692d-a54d-4373-986f-7f9a93b2352a",
   "metadata": {},
   "outputs": [
    {
     "name": "stdin",
     "output_type": "stream",
     "text": [
      " 7\n"
     ]
    },
    {
     "name": "stdout",
     "output_type": "stream",
     "text": [
      "* * * * * * * * * * * * * \n",
      "  * * * * * * * * * * *   \n",
      "    * * * * * * * * *     \n",
      "      * * * * * * *       \n",
      "        * * * * *         \n",
      "          * * *           \n",
      "            *             \n"
     ]
    }
   ],
   "source": [
    "n = int(input())\n",
    "for i in range(n):\n",
    "    for j in range(i):\n",
    "        print(' ',end=' ')\n",
    "    for j in range(2*n - (2*i+1)):\n",
    "        print('*',end=' ')\n",
    "    for j in range(i):\n",
    "        print(' ',end=' ')\n",
    "    print()"
   ]
  },
  {
   "cell_type": "raw",
   "id": "88cf43ce-3feb-4deb-9f7f-9ed6d3e3fe81",
   "metadata": {},
   "source": [
    "n = int(input())\n",
    "for i in range(n):\n",
    "    for j in range(n-i-1):\n",
    "        print(' ',end=' ')\n",
    "    for j in range(2*i+1):\n",
    "        print('*',end=' ')\n",
    "    for j in range(n-i-1):\n",
    "        print(' ',end=' ')\n",
    "    print()\n",
    "for i in range(n):\n",
    "    for j in range(i):\n",
    "        print(' ',end=' ')\n",
    "    for j in range(2*n - (2*i+1)):\n",
    "        print('*',end=' ')\n",
    "    for j in range(i):\n",
    "        print(' ',end=' ')\n",
    "    print()"
   ]
  },
  {
   "cell_type": "code",
   "execution_count": 30,
   "id": "09f572c2-7c58-4c61-bafc-657bcaf8c264",
   "metadata": {},
   "outputs": [
    {
     "name": "stdin",
     "output_type": "stream",
     "text": [
      " 7\n"
     ]
    },
    {
     "name": "stdout",
     "output_type": "stream",
     "text": [
      "*\n",
      "**\n",
      "***\n",
      "****\n",
      "*****\n",
      "******\n",
      "*******\n",
      "******\n",
      "*****\n",
      "****\n",
      "***\n",
      "**\n",
      "*\n"
     ]
    }
   ],
   "source": [
    "n = int(input())\n",
    "for i in range(1,2*n):\n",
    "    if i <= n:\n",
    "        for j in range(i):\n",
    "            print('*',end='')\n",
    "        print()\n",
    "    else:\n",
    "        for j in range(2*n-i):\n",
    "            print('*',end='')\n",
    "        print()"
   ]
  },
  {
   "cell_type": "code",
   "execution_count": 33,
   "id": "7da38318-a43e-4cf6-9489-a0f3c641066b",
   "metadata": {},
   "outputs": [
    {
     "name": "stdin",
     "output_type": "stream",
     "text": [
      " 7\n"
     ]
    },
    {
     "name": "stdout",
     "output_type": "stream",
     "text": [
      "\n",
      "1 \n",
      "1 0 \n",
      "1 0 1 \n",
      "1 0 1 0 \n",
      "1 0 1 0 1 \n",
      "1 0 1 0 1 0 \n"
     ]
    }
   ],
   "source": [
    "n = int(input())\n",
    "for i in range(n):\n",
    "    for j in range(i):\n",
    "        if j % 2 == 0:\n",
    "            print('1',end=' ')\n",
    "        else:\n",
    "            print('0',end=' ')\n",
    "    print()"
   ]
  },
  {
   "cell_type": "code",
   "execution_count": 34,
   "id": "a58260e8-91ba-4d80-94c9-d45f45fec790",
   "metadata": {},
   "outputs": [
    {
     "name": "stdin",
     "output_type": "stream",
     "text": [
      " 7\n"
     ]
    },
    {
     "name": "stdout",
     "output_type": "stream",
     "text": [
      "\n",
      "0 \n",
      "1 1 \n",
      "0 0 0 \n",
      "1 1 1 1 \n",
      "0 0 0 0 0 \n",
      "1 1 1 1 1 1 \n"
     ]
    }
   ],
   "source": [
    "n = int(input())\n",
    "for i in range(n):\n",
    "    for j in range(i):\n",
    "        if i % 2 == 0:\n",
    "            print('1',end=' ')\n",
    "        else:\n",
    "            print('0',end=' ')\n",
    "    print()"
   ]
  },
  {
   "cell_type": "code",
   "execution_count": 38,
   "id": "f97c16c7-8db9-4943-a60f-e6e285c38b19",
   "metadata": {},
   "outputs": [
    {
     "name": "stdin",
     "output_type": "stream",
     "text": [
      " 7\n"
     ]
    },
    {
     "name": "stdout",
     "output_type": "stream",
     "text": [
      "\n",
      "1 \n",
      "0 1 \n",
      "1 0 1 \n",
      "0 1 0 1 \n",
      "1 0 1 0 1 \n",
      "0 1 0 1 0 1 \n",
      "1 0 1 0 1 0 1 \n"
     ]
    }
   ],
   "source": [
    "n = int(input())\n",
    "for i in range(n+1):\n",
    "    for j in range(i):\n",
    "        if (i+j) % 2 != 0:\n",
    "            print('1',end=' ')\n",
    "        else:\n",
    "            print('0',end=' ')\n",
    "    print()"
   ]
  },
  {
   "cell_type": "code",
   "execution_count": 39,
   "id": "c304a026-da6f-410b-a027-4d679dae780c",
   "metadata": {},
   "outputs": [
    {
     "name": "stdin",
     "output_type": "stream",
     "text": [
      " 7\n"
     ]
    },
    {
     "name": "stdout",
     "output_type": "stream",
     "text": [
      "1                         1 \n",
      "2 2                     2 2 \n",
      "3 3 3                 3 3 3 \n",
      "4 4 4 4             4 4 4 4 \n",
      "5 5 5 5 5         5 5 5 5 5 \n",
      "6 6 6 6 6 6     6 6 6 6 6 6 \n",
      "7 7 7 7 7 7 7 7 7 7 7 7 7 7 \n"
     ]
    }
   ],
   "source": [
    "n = int(input())\n",
    "for i in range(1,n+1):\n",
    "    for j in range(i):\n",
    "        print(i,end=' ')\n",
    "    for j in range(2*(n-i)):\n",
    "        print(' ',end=' ')\n",
    "    for j in range(i):\n",
    "        print(i,end=' ')\n",
    "    print()\n",
    "        "
   ]
  },
  {
   "cell_type": "code",
   "execution_count": 51,
   "id": "610a3ceb-219a-4294-88fe-2fb905e43f2a",
   "metadata": {},
   "outputs": [
    {
     "name": "stdin",
     "output_type": "stream",
     "text": [
      " 7\n"
     ]
    },
    {
     "name": "stdout",
     "output_type": "stream",
     "text": [
      "1                         1 \n",
      "1 2                     2 1 \n",
      "1 2 3                 3 2 1 \n",
      "1 2 3 4             4 3 2 1 \n",
      "1 2 3 4 5         5 4 3 2 1 \n",
      "1 2 3 4 5 6     6 5 4 3 2 1 \n",
      "1 2 3 4 5 6 7 7 6 5 4 3 2 1 \n"
     ]
    }
   ],
   "source": [
    "n = int(input())\n",
    "for i in range(1,n+1):\n",
    "    for j in range(1,i+1):\n",
    "        print(j,end=' ')\n",
    "    for j in range(2*(n-i)):\n",
    "        print(' ',end=' ')\n",
    "    for j in range(i,0,-1):\n",
    "        print(j,end=' ')\n",
    "    print()"
   ]
  },
  {
   "cell_type": "code",
   "execution_count": 52,
   "id": "aa4e115e-0dda-407e-847f-977d71456edc",
   "metadata": {},
   "outputs": [
    {
     "name": "stdin",
     "output_type": "stream",
     "text": [
      " 7\n"
     ]
    },
    {
     "name": "stdout",
     "output_type": "stream",
     "text": [
      "            0 1 2 3 4 5 6 \n",
      "          0 1 2 3 4 5 6 \n",
      "        0 1 2 3 4 5 6 \n",
      "      0 1 2 3 4 5 6 \n",
      "    0 1 2 3 4 5 6 \n",
      "  0 1 2 3 4 5 6 \n",
      "0 1 2 3 4 5 6 \n"
     ]
    }
   ],
   "source": [
    "n = int(input())\n",
    "for i in range(1,n+1):\n",
    "    for j in range((n-i)):\n",
    "        print(' ',end=' ')\n",
    "    for j in range(n):\n",
    "        print(j,end=' ')\n",
    "    print()"
   ]
  },
  {
   "cell_type": "code",
   "execution_count": 56,
   "id": "704f3c83-be9f-4862-9807-3b30a21f5d54",
   "metadata": {},
   "outputs": [
    {
     "name": "stdin",
     "output_type": "stream",
     "text": [
      " 7\n"
     ]
    },
    {
     "name": "stdout",
     "output_type": "stream",
     "text": [
      "1 \n",
      "2 3 \n",
      "4 5 6 \n",
      "7 8 9 10 \n",
      "11 12 13 14 15 \n",
      "16 17 18 19 20 21 \n",
      "22 23 24 25 26 27 28 \n"
     ]
    }
   ],
   "source": [
    "n = int(input())\n",
    "v = 1\n",
    "for i in range(n):\n",
    "    for j in range(i+1):\n",
    "        print(v,end=' ')\n",
    "        v += 1\n",
    "    print()"
   ]
  },
  {
   "cell_type": "code",
   "execution_count": 62,
   "id": "bdc298d4-a97d-4e52-ae22-2f4a341db011",
   "metadata": {},
   "outputs": [
    {
     "name": "stdin",
     "output_type": "stream",
     "text": [
      " 7\n"
     ]
    },
    {
     "name": "stdout",
     "output_type": "stream",
     "text": [
      "A \n",
      "A B \n",
      "A B C \n",
      "A B C D \n",
      "A B C D E \n",
      "A B C D E F \n",
      "A B C D E F G \n"
     ]
    }
   ],
   "source": [
    "n = int(input())\n",
    "ch = 'A'\n",
    "for i in range(n):\n",
    "    for j in range(i+1):\n",
    "        v = chr(ord(ch) + j)\n",
    "        print(v,end=' ')\n",
    "    print()"
   ]
  },
  {
   "cell_type": "code",
   "execution_count": 74,
   "id": "651827a5-bb2c-4093-a68d-0bf25e9fb5d9",
   "metadata": {},
   "outputs": [
    {
     "name": "stdin",
     "output_type": "stream",
     "text": [
      " 7\n"
     ]
    },
    {
     "name": "stdout",
     "output_type": "stream",
     "text": [
      "A B C D E F \n",
      "A B C D E \n",
      "A B C D \n",
      "A B C \n",
      "A B \n",
      "A \n",
      "\n",
      "\n"
     ]
    }
   ],
   "source": [
    "n = int(input())\n",
    "ch = 'A'\n",
    "for i in range(n+1):\n",
    "    for j in range(n-i-1):\n",
    "        v = chr(ord(ch) + j)\n",
    "        print(v,end=' ')\n",
    "    print()"
   ]
  },
  {
   "cell_type": "code",
   "execution_count": 76,
   "id": "a4081008-a081-47e8-a8ac-21489600ea3e",
   "metadata": {},
   "outputs": [
    {
     "name": "stdin",
     "output_type": "stream",
     "text": [
      " 7\n"
     ]
    },
    {
     "name": "stdout",
     "output_type": "stream",
     "text": [
      "A\n",
      "BB\n",
      "CCC\n",
      "DDDD\n",
      "EEEEE\n",
      "FFFFFF\n",
      "GGGGGGG\n"
     ]
    }
   ],
   "source": [
    "n = int(input())\n",
    "ch = 'A'\n",
    "for i in range(n):\n",
    "    for j in range(i+1):\n",
    "        print(ch,end='')\n",
    "    print()\n",
    "    ch = chr(ord(ch) + 1)"
   ]
  },
  {
   "cell_type": "code",
   "execution_count": 77,
   "id": "dae332ce-fb6f-48eb-889c-5673088694b5",
   "metadata": {},
   "outputs": [
    {
     "name": "stdin",
     "output_type": "stream",
     "text": [
      " 7\n"
     ]
    },
    {
     "name": "stdout",
     "output_type": "stream",
     "text": [
      "        A         \n",
      "       A B        \n",
      "      A B C       \n",
      "     A B C D      \n",
      "    A B C D E     \n",
      "   A B C D E F    \n",
      "  A B C D E F G   \n"
     ]
    }
   ],
   "source": [
    "n = int(input())\n",
    "ch = 'A'\n",
    "for i in range(n):\n",
    "    for j in range(n-i+1):\n",
    "        print(' ',end='')\n",
    "    for j in range(i+1):\n",
    "        v = chr(ord(ch) + j)\n",
    "        print(v,end=' ')\n",
    "    for j in range(n-i+1):\n",
    "        print(' ',end='') \n",
    "    print()"
   ]
  },
  {
   "cell_type": "code",
   "execution_count": 86,
   "id": "68949aad-7fa4-4fe3-9952-7fda37ed28f6",
   "metadata": {},
   "outputs": [
    {
     "name": "stdin",
     "output_type": "stream",
     "text": [
      "Enter number of rows:  7\n"
     ]
    },
    {
     "name": "stdout",
     "output_type": "stream",
     "text": [
      "       A       \n",
      "      ABA      \n",
      "     ABCBA     \n",
      "    ABCDCBA    \n",
      "   ABCDEDCBA   \n",
      "  ABCDEFEDCBA  \n",
      " ABCDEFGFEDCBA \n"
     ]
    }
   ],
   "source": [
    "n = int(input(\"Enter number of rows: \"))\n",
    "for i in range(n):\n",
    "    # Print leading spaces\n",
    "    for j in range(n - i):\n",
    "        print(' ', end='')\n",
    "\n",
    "    # Print character pyramid\n",
    "    ch = 'A'\n",
    "    for j in range(2 * i + 1):\n",
    "        print(ch, end='')\n",
    "        if j < i:\n",
    "            ch = chr(ord(ch) + 1)\n",
    "        else:\n",
    "            ch = chr(ord(ch) - 1)\n",
    "\n",
    "    # Print trailing spaces (optional for symmetry)\n",
    "    for j in range(n - i):\n",
    "        print(' ', end='')\n",
    "\n",
    "    print()\n"
   ]
  },
  {
   "cell_type": "code",
   "execution_count": 87,
   "id": "b0b8351a-a84a-4df7-ba23-7edfcad727d3",
   "metadata": {},
   "outputs": [
    {
     "name": "stdin",
     "output_type": "stream",
     "text": [
      " 7\n"
     ]
    },
    {
     "name": "stdout",
     "output_type": "stream",
     "text": [
      "        A        \n",
      "       ABA       \n",
      "      ABCBA      \n",
      "     ABCDCBA     \n",
      "    ABCDEDCBA    \n",
      "   ABCDEFEDCBA   \n",
      "  ABCDEFGFEDCBA  \n"
     ]
    }
   ],
   "source": [
    "n = int(input())\n",
    "for i in range(n):\n",
    "    for j in range(n - i + 1):\n",
    "        print(' ', end='')  # Leading spaces\n",
    "\n",
    "    ch = 'A'\n",
    "    for j in range(2 * i + 1):\n",
    "        print(ch, end='')  # Print characters on same line\n",
    "        if j < (2 * i + 1) // 2:\n",
    "            ch = chr(ord(ch) + 1)\n",
    "        else:\n",
    "            ch = chr(ord(ch) - 1)\n",
    "\n",
    "    for j in range(n - i + 1):\n",
    "        print(' ', end='')  # Trailing spaces\n",
    "    print()\n"
   ]
  },
  {
   "cell_type": "code",
   "execution_count": 101,
   "id": "727048e1-b446-4b1c-a3a8-aa49b8bbb792",
   "metadata": {},
   "outputs": [
    {
     "name": "stdin",
     "output_type": "stream",
     "text": [
      " 7\n"
     ]
    },
    {
     "name": "stdout",
     "output_type": "stream",
     "text": [
      "G \n",
      "F E \n",
      "E D C \n",
      "D C B A \n",
      "C B A \n",
      "B A \n",
      "A \n",
      "\n"
     ]
    }
   ],
   "source": [
    "n = int(input())\n",
    "for i in range(n + 1):\n",
    "    ch = chr(ord('A') + (n - i - 1))\n",
    "    for j in range(i + 1):\n",
    "        if ord(ch) >= ord('A'):\n",
    "            print(ch, end=' ')\n",
    "            ch = chr(ord(ch) - 1)\n",
    "    print()\n"
   ]
  },
  {
   "cell_type": "code",
   "execution_count": 103,
   "id": "140e6f37-406f-4a8b-8b0a-c896dbe71266",
   "metadata": {},
   "outputs": [
    {
     "name": "stdin",
     "output_type": "stream",
     "text": [
      " 5\n"
     ]
    },
    {
     "name": "stdout",
     "output_type": "stream",
     "text": [
      "E \n",
      "D E \n",
      "C D E \n",
      "B C D E \n",
      "A B C D E \n"
     ]
    }
   ],
   "source": [
    "n = int(input())\n",
    "for i in range(n):\n",
    "    ch = chr(ord('E') - i)\n",
    "    for j in range(i + 1):\n",
    "        print(ch, end=' ')\n",
    "        ch = chr(ord(ch) + 1)\n",
    "    print()"
   ]
  },
  {
   "cell_type": "code",
   "execution_count": 104,
   "id": "d0576212-d6ff-4380-bcec-55b0aabcf186",
   "metadata": {},
   "outputs": [
    {
     "name": "stdin",
     "output_type": "stream",
     "text": [
      " 7\n"
     ]
    },
    {
     "name": "stdout",
     "output_type": "stream",
     "text": [
      "*           * \n",
      "* *       * * \n",
      "*   *   *   * \n",
      "*     *     * \n",
      "*           * \n",
      "*           * \n",
      "*           * \n"
     ]
    }
   ],
   "source": [
    "n = int(input())\n",
    "for i in range(n):\n",
    "    for j in range(n):\n",
    "        if j == 0 or j == n - 1 or (i == j and j <= n // 2) or (i + j == n - 1 and j >= n // 2):\n",
    "            print('*', end=' ')\n",
    "        else:\n",
    "            print(' ', end=' ')\n",
    "    print()\n"
   ]
  },
  {
   "cell_type": "code",
   "execution_count": 111,
   "id": "1405bc3a-67d7-47bb-8748-7818f7d87232",
   "metadata": {},
   "outputs": [
    {
     "name": "stdin",
     "output_type": "stream",
     "text": [
      " 7\n"
     ]
    },
    {
     "name": "stdout",
     "output_type": "stream",
     "text": [
      "A           A \n",
      "B B       B B \n",
      "C   C   C   C \n",
      "D     D     D \n",
      "E           E \n",
      "F           F \n",
      "G           G \n"
     ]
    }
   ],
   "source": [
    "n = int(input())\n",
    "for i in range(n):\n",
    "    for j in range(n):\n",
    "        if j == 0 or j == n - 1 or (i == j and j <= n // 2) or (i + j == n - 1 and j >= n // 2):\n",
    "            print(chr(ord('A') + i), end=' ')\n",
    "        else:\n",
    "            print(' ', end=' ')\n",
    "    print()\n"
   ]
  }
 ],
 "metadata": {
  "kernelspec": {
   "display_name": "Python 3 (ipykernel)",
   "language": "python",
   "name": "python3"
  },
  "language_info": {
   "codemirror_mode": {
    "name": "ipython",
    "version": 3
   },
   "file_extension": ".py",
   "mimetype": "text/x-python",
   "name": "python",
   "nbconvert_exporter": "python",
   "pygments_lexer": "ipython3",
   "version": "3.13.5"
  }
 },
 "nbformat": 4,
 "nbformat_minor": 5
}
